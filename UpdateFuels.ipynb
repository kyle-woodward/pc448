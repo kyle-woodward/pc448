{
 "cells": [
  {
   "cell_type": "code",
   "execution_count": 1,
   "metadata": {},
   "outputs": [],
   "source": [
    "import ee\n",
    "import os\n",
    "PROJECT = 'pyregence-ee'\n",
    "try:\n",
    "    credentials = ee.ServiceAccountCredentials(email=None,key_file='/home/private-key.json')\n",
    "    ee.Initialize(credentials)\n",
    "except:\n",
    "    ee.Initialize(PROJECT)"
   ]
  },
  {
   "cell_type": "markdown",
   "metadata": {},
   "source": [
    "### Must choose source of baseline fuels data to update, pyrologix or firefactor"
   ]
  },
  {
   "cell_type": "code",
   "execution_count": 2,
   "metadata": {},
   "outputs": [],
   "source": [
    "fuels_source = \"pyrologix\" # \"firefactor\""
   ]
  },
  {
   "cell_type": "markdown",
   "metadata": {},
   "source": [
    "### Make a folder to hold fuel layers generated from your treatment scenario ensemble"
   ]
  },
  {
   "cell_type": "code",
   "execution_count": 3,
   "metadata": {},
   "outputs": [
    {
     "name": "stdout",
     "output_type": "stream",
     "text": [
      "Created Folder: projects/pyregence-ee/assets/pc448/DIST_Treatments_Plumas_Protect_Alt1_v2_fuelscape\n"
     ]
    }
   ],
   "source": [
    "# for pc448 and others like it, provide paths to the DIST imgs representing the treatment scenarios you're updating Fuels for\n",
    "scenario_paths = [\"projects/pyregence-ee/assets/pc448/DIST_Treatments_Plumas_Protect_Alt1_v2\"]\n",
    "\n",
    "#create fuelscape folders for each DIST scenario\n",
    "fuels_folders= [(path + \"_fuelscape\") for path in scenario_paths]\n",
    "\n",
    "for fuels_folder in fuels_folders:\n",
    "    fuels_folder_list = os.popen(f\"earthengine ls {os.path.dirname(fuels_folder)}\").read().split('\\n')[0:-1]\n",
    "    if not fuels_folder in fuels_folder_list:\n",
    "        os.popen(f\"earthengine create folder {fuels_folder}\").read()\n",
    "        print(f'Created Folder: {fuels_folder}')\n",
    "    else:\n",
    "        print(f\"{fuels_folder} already exists\")"
   ]
  },
  {
   "cell_type": "markdown",
   "metadata": {},
   "source": [
    "### For each treated landscape img in your treatment scenarios imageCollection, create a new folder to hold the fuels layers"
   ]
  },
  {
   "cell_type": "code",
   "execution_count": 4,
   "metadata": {},
   "outputs": [],
   "source": [
    "# don't need subfolder for this application\n",
    "# scenarios_img_paths = os.popen(f\"earthengine ls {scenario_paths}\").read().split('\\n')[0:-1]\n",
    "# scn_sub_folders = [(fuels_folder+'/'+os.path.basename(path)) for path in scenarios_img_paths]\n",
    "\n",
    "# sub_folders_list = os.popen(f\"earthengine ls {fuels_folder}\").read().split('\\n')[0:-1]\n",
    "# for sub_folder_name in scn_sub_folders:\n",
    "#     if not sub_folder_name in sub_folders_list:\n",
    "#         os.popen(f\"earthengine create folder {sub_folder_name}\").read()\n",
    "#         print(f'Created scenario fuelscapes sub-folder: {sub_folder_name}')\n",
    "#     else:\n",
    "#         print(f\"{sub_folder_name} already exists\")"
   ]
  },
  {
   "cell_type": "markdown",
   "metadata": {},
   "source": [
    "### Loop thru each fuel updater script the way we do for FireFactor: create_canopy_guide, calc_CC_CH, calc_CBD_CBH, calc_FM40 (don't need to run fm40 wui update)"
   ]
  },
  {
   "cell_type": "code",
   "execution_count": 4,
   "metadata": {},
   "outputs": [
    {
     "name": "stdout",
     "output_type": "stream",
     "text": [
      "c:\\pc448\\config.yml\n"
     ]
    }
   ],
   "source": [
    "# get config.yml file path, needed for every script\n",
    "config_path = os.path.join(os.getcwd(),'config.yml')\n",
    "print(config_path)"
   ]
  },
  {
   "cell_type": "code",
   "execution_count": 5,
   "metadata": {},
   "outputs": [
    {
     "name": "stdout",
     "output_type": "stream",
     "text": [
      "['projects/pyregence-ee/assets/pc448/DIST_Treatments_Plumas_Protect_Alt1_v2']\n",
      "['projects/pyregence-ee/assets/pc448/DIST_Treatments_Plumas_Protect_Alt1_v2_fuelscape']\n"
     ]
    }
   ],
   "source": [
    "print(scenario_paths)\n",
    "print(fuels_folders)"
   ]
  },
  {
   "cell_type": "markdown",
   "metadata": {},
   "source": [
    "### Export Canopy Guide and FM40"
   ]
  },
  {
   "cell_type": "code",
   "execution_count": 6,
   "metadata": {},
   "outputs": [
    {
     "name": "stdout",
     "output_type": "stream",
     "text": [
      "python src/CreateEEFuels/create_canopy_guide.py -c c:\\pc448\\config.yml -d projects/pyregence-ee/assets/pc448/DIST_Treatments_Plumas_Protect_Alt1_v2 -o projects/pyregence-ee/assets/pc448/DIST_Treatments_Plumas_Protect_Alt1_v2_fuelscape\n",
      "python src/CreateEEFuels/calc_FM40.py -c c:\\pc448\\config.yml -d projects/pyregence-ee/assets/pc448/DIST_Treatments_Plumas_Protect_Alt1_v2 -o projects/pyregence-ee/assets/pc448/DIST_Treatments_Plumas_Protect_Alt1_v2_fuelscape -f pyrologix\n"
     ]
    }
   ],
   "source": [
    "# Canopy Guide\n",
    "for scn_img_path,scn_sub_folder in zip(scenario_paths,fuels_folders):\n",
    "    cmd = f\"python src/CreateEEFuels/create_canopy_guide.py -c {config_path} -d {scn_img_path} -o {scn_sub_folder}\" # pass the config file path, the given scenarios DIST img path, and the given scenarios fuelscapes folder path\n",
    "    print(cmd)\n",
    "    os.popen(cmd).read()\n",
    "    #break\n",
    "\n",
    "# FM40 \n",
    "for scn_img_path,scn_sub_folder in zip(scenario_paths,fuels_folders):\n",
    "    cmd = f\"python src/CreateEEFuels/calc_FM40.py -c {config_path} -d {scn_img_path} -o {scn_sub_folder} -f {fuels_source}\" # pass the config file path, the given scenarios DIST img path, and the given scenarios fuelscapes folder path\n",
    "    print(cmd)\n",
    "    os.popen(cmd).read()\n",
    "    #break\n"
   ]
  },
  {
   "cell_type": "markdown",
   "metadata": {},
   "source": [
    "### Export CC and CH (wait until all Canopy Guide exports have successfully completed before running)"
   ]
  },
  {
   "cell_type": "code",
   "execution_count": 7,
   "metadata": {},
   "outputs": [
    {
     "name": "stdout",
     "output_type": "stream",
     "text": [
      "python src/CreateEEFuels/calc_CC_CH.py -c c:\\pc448\\config.yml -d projects/pyregence-ee/assets/pc448/DIST_Treatments_Plumas_Protect_Alt1_v2 -o projects/pyregence-ee/assets/pc448/DIST_Treatments_Plumas_Protect_Alt1_v2_fuelscape -f pyrologix\n",
      "\n",
      "\n"
     ]
    }
   ],
   "source": [
    "# CC and CH\n",
    "for scn_img_path,scn_sub_folder in zip(scenario_paths,fuels_folders):\n",
    "    cmd = f\"python src/CreateEEFuels/calc_CC_CH.py -c {config_path} -d {scn_img_path} -o {scn_sub_folder} -f {fuels_source}\" # pass the config file path, the given scenarios DIST img path, and the given scenarios fuelscapes folder path\n",
    "    print(cmd)\n",
    "    os.popen(cmd).read()\n",
    "    print('\\n')\n",
    "    #break"
   ]
  },
  {
   "cell_type": "markdown",
   "metadata": {},
   "source": [
    "### Export CBD and CBH (wait until all CC and CH exports have completed before running)"
   ]
  },
  {
   "cell_type": "code",
   "execution_count": 8,
   "metadata": {},
   "outputs": [
    {
     "name": "stdout",
     "output_type": "stream",
     "text": [
      "python src/CreateEEFuels/calc_CBD_CBH.py -c c:\\pc448\\config.yml -d projects/pyregence-ee/assets/pc448/DIST_Treatments_Plumas_Protect_Alt1_v2 -o projects/pyregence-ee/assets/pc448/DIST_Treatments_Plumas_Protect_Alt1_v2_fuelscape -f pyrologix\n",
      "\n",
      "\n"
     ]
    }
   ],
   "source": [
    "# CBD and CBH\n",
    "for scn_img_path,scn_sub_folder in zip(scenario_paths,fuels_folders):\n",
    "    cmd = f\"python src/CreateEEFuels/calc_CBD_CBH.py -c {config_path} -d {scn_img_path} -o {scn_sub_folder} -f {fuels_source}\" # pass the config file path, the given scenarios DIST img path, and the given scenarios fuelscapes folder path\n",
    "    print(cmd)\n",
    "    os.popen(cmd).read()\n",
    "    print('\\n')\n",
    "    #break"
   ]
  },
  {
   "cell_type": "markdown",
   "metadata": {},
   "source": [
    "### After all fuel layers in each scenario's fuelscape has successfully exported, collate each 5-layer fuelscape into a multiband img for Google Drive Export"
   ]
  },
  {
   "cell_type": "code",
   "execution_count": 9,
   "metadata": {},
   "outputs": [
    {
     "name": "stdout",
     "output_type": "stream",
     "text": [
      "Export started: PC448_Fuelscapes/DIST_Treatments_Plumas_Protect_Alt1_v2_fuelscape\n"
     ]
    }
   ],
   "source": [
    "from src.CreateEEFuels.utils.yml_params import get_export_params\n",
    "AOI = ee.Image(\"projects/pyregence-ee/assets/pc448/templateImg\").geometry()\n",
    "for scn_img_path,scn_sub_folder in zip(scenario_paths,fuels_folders):\n",
    "    # print(scn_img_path)\n",
    "    # print(scn_sub_folder)\n",
    "    fm40 = ee.ImageCollection(scn_sub_folder+'/fm40_collection').select('new_fbfm40').mosaic()\n",
    "    cc = ee.Image(scn_sub_folder+'/CC')\n",
    "    ch = ee.Image(scn_sub_folder+'/CH')\n",
    "    cbh = ee.Image(scn_sub_folder+'/CBH')\n",
    "    cbd = ee.Image(scn_sub_folder+'/CBD')\n",
    "    fuel_stack = fm40.addBands(cc).addBands(ch).addBands(cbh).addBands(cbd).rename('FM40','CC','CH', 'CBH','CBD').toInt16()\n",
    "    # fuel_stack = cc.addBands(ch).addBands(cbh).addBands(cbd).rename('CC','CH', 'CBH','CBD').toInt16() # exclude FM40\n",
    "    # print(fuel_stack.bandNames().getInfo())\n",
    "\n",
    "    # export\n",
    "    scn_id = scn_sub_folder.split('/')[-1]\n",
    "    # print(scn_id)\n",
    "    \n",
    "    desc = f\"export_{scn_id}\"\n",
    "   \n",
    "    crs,scale = get_export_params(config_path)\n",
    "    # print(desc)\n",
    "    # print(crs)\n",
    "    # print(scale)\n",
    "    folder=f'PC448_Fuelscapes'\n",
    "    fileNamePrefix=scn_id\n",
    "    \n",
    "    task = ee.batch.Export.image.toDrive(image=fuel_stack,description=desc,folder=folder,fileNamePrefix=fileNamePrefix,region=AOI,scale=scale,crs=crs)\n",
    "    task.start()\n",
    "    print(f'Export started: {folder}/{fileNamePrefix}')\n",
    "    #break"
   ]
  },
  {
   "cell_type": "code",
   "execution_count": null,
   "metadata": {},
   "outputs": [],
   "source": []
  }
 ],
 "metadata": {
  "kernelspec": {
   "display_name": "Python 3.8.13 ('gee')",
   "language": "python",
   "name": "python3"
  },
  "language_info": {
   "codemirror_mode": {
    "name": "ipython",
    "version": 3
   },
   "file_extension": ".py",
   "mimetype": "text/x-python",
   "name": "python",
   "nbconvert_exporter": "python",
   "pygments_lexer": "ipython3",
   "version": "3.8.13 | packaged by conda-forge | (default, Mar 25 2022, 05:59:45) [MSC v.1929 64 bit (AMD64)]"
  },
  "orig_nbformat": 4,
  "vscode": {
   "interpreter": {
    "hash": "5456adbb3bcda72c3f039b556ea69b5085f7c81f44c93a142b7acd907f0ad587"
   }
  }
 },
 "nbformat": 4,
 "nbformat_minor": 2
}
